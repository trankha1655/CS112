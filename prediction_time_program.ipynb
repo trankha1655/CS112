{
  "nbformat": 4,
  "nbformat_minor": 0,
  "metadata": {
    "colab": {
      "name": "prediction_time_program.ipynb",
      "provenance": [],
      "collapsed_sections": [],
      "authorship_tag": "ABX9TyOEfzUKebjI0CAdkv+QIC7M",
      "include_colab_link": true
    },
    "kernelspec": {
      "name": "python3",
      "display_name": "Python 3"
    },
    "language_info": {
      "name": "python"
    }
  },
  "cells": [
    {
      "cell_type": "markdown",
      "metadata": {
        "id": "view-in-github",
        "colab_type": "text"
      },
      "source": [
        "<a href=\"https://colab.research.google.com/github/trankha1655/CS112/blob/master/prediction_time_program.ipynb\" target=\"_parent\"><img src=\"https://colab.research.google.com/assets/colab-badge.svg\" alt=\"Open In Colab\"/></a>"
      ]
    },
    {
      "cell_type": "code",
      "metadata": {
        "id": "ak9tTPQNzYFj"
      },
      "source": [
        "import pandas as pd\n",
        "import io\n",
        "import requests\n",
        "import numpy as np\n",
        "import sklearn.linear_model as Linear\n",
        "sklearn.linear_model.LinearRegression\n",
        "from sklearn.model_selection import train_test_split\n",
        "from sklearn.metrics import mean_squared_error"
      ],
      "execution_count": 43,
      "outputs": []
    },
    {
      "cell_type": "markdown",
      "metadata": {
        "id": "KLSYzqLw9YVj"
      },
      "source": [
        "Xử lý traning data"
      ]
    },
    {
      "cell_type": "code",
      "metadata": {
        "id": "hTRhgJxUy7MT"
      },
      "source": [
        "#Đọc từ web vào csv (training data)\n",
        "url=\"https://cs.uit.edu.vn/data2.txt\"\n",
        "s=requests.get(url).content\n",
        "c=pd.read_csv(io.StringIO(s.decode('utf-8')))"
      ],
      "execution_count": 20,
      "outputs": []
    },
    {
      "cell_type": "code",
      "metadata": {
        "id": "PQ6eFGJ31RmT"
      },
      "source": [
        "#chuyển df sang numpy array\n",
        "columns=c.columns\n",
        "X_train= c[columns[0]]\n",
        "y_train= c[columns[1]]\n",
        "X_train=X_train.to_numpy().T\n",
        "y_train=y_train.to_numpy()"
      ],
      "execution_count": 34,
      "outputs": []
    },
    {
      "cell_type": "code",
      "metadata": {
        "id": "OSY27Fbn2j2e"
      },
      "source": [
        "#chia train và validation để đánh giá\n",
        "X_train, X_val, y_train,y_val= train_test_split(X_train,y_train)"
      ],
      "execution_count": 48,
      "outputs": []
    },
    {
      "cell_type": "code",
      "metadata": {
        "colab": {
          "base_uri": "https://localhost:8080/"
        },
        "id": "3UihZc170Y5v",
        "outputId": "23db9aa7-987c-4c0c-e2d0-a340057565ce"
      },
      "source": [
        "#train model\n",
        "model.fit(X_train,y_train)"
      ],
      "execution_count": 56,
      "outputs": [
        {
          "output_type": "execute_result",
          "data": {
            "text/plain": [
              "LinearRegression(copy_X=True, fit_intercept=True, n_jobs=None, normalize=False)"
            ]
          },
          "metadata": {
            "tags": []
          },
          "execution_count": 56
        }
      ]
    },
    {
      "cell_type": "code",
      "metadata": {
        "colab": {
          "base_uri": "https://localhost:8080/"
        },
        "id": "JW_1UfPf2ZFe",
        "outputId": "6ac14bac-0fc4-4ab1-965b-d602a627c050"
      },
      "source": [
        "#accuracy validation data\n",
        "model.score(X_val,y_val)"
      ],
      "execution_count": 57,
      "outputs": [
        {
          "output_type": "execute_result",
          "data": {
            "text/plain": [
              "0.9975578670775714"
            ]
          },
          "metadata": {
            "tags": []
          },
          "execution_count": 57
        }
      ]
    },
    {
      "cell_type": "markdown",
      "metadata": {
        "id": "BZ9grmAz9NgS"
      },
      "source": [
        "Xử lý test data để đánh giá"
      ]
    },
    {
      "cell_type": "code",
      "metadata": {
        "id": "MPx6PFzp3LOd"
      },
      "source": [
        "#Đọc từ web vào csv  (testing data)\n",
        "url=\"https://cs.uit.edu.vn/data3.txt\"\n",
        "s=requests.get(url).content\n",
        "df_test=pd.read_csv(io.StringIO(s.decode('utf-8')))"
      ],
      "execution_count": 59,
      "outputs": []
    },
    {
      "cell_type": "code",
      "metadata": {
        "id": "72aI2A7e3RL4"
      },
      "source": [
        "#chuyển csv sang array numpy\n",
        "columns=df_test.columns\n",
        "X_test= df_test[columns[0]]\n",
        "y_test= df_test[columns[1]]\n",
        "X_test=X_test.to_numpy().reshape((-1,1))\n",
        "y_test=y_test.to_numpy()"
      ],
      "execution_count": 60,
      "outputs": []
    },
    {
      "cell_type": "code",
      "metadata": {
        "colab": {
          "base_uri": "https://localhost:8080/"
        },
        "id": "UqAXSu484B2J",
        "outputId": "e07311c6-bc38-409e-f4e2-f392609f8b09"
      },
      "source": [
        "#accuracy\n",
        "model.score(X_test,y_test)"
      ],
      "execution_count": 61,
      "outputs": [
        {
          "output_type": "execute_result",
          "data": {
            "text/plain": [
              "0.9284818510320721"
            ]
          },
          "metadata": {
            "tags": []
          },
          "execution_count": 61
        }
      ]
    },
    {
      "cell_type": "code",
      "metadata": {
        "colab": {
          "base_uri": "https://localhost:8080/"
        },
        "id": "SSwJ8Po-5yfO",
        "outputId": "8c5e2615-53f3-45e0-8757-a8e5bfeb2f9b"
      },
      "source": [
        "# tinhs MSE\n",
        "y_pre= model.predict(X_test)\n",
        "mean_squared_error(y_test,y_pre)"
      ],
      "execution_count": 73,
      "outputs": [
        {
          "output_type": "execute_result",
          "data": {
            "text/plain": [
              "0.020632315257812638"
            ]
          },
          "metadata": {
            "tags": []
          },
          "execution_count": 73
        }
      ]
    }
  ]
}